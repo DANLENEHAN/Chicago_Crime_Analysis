{
 "cells": [
  {
   "cell_type": "markdown",
   "metadata": {},
   "source": [
    "# Data Science In Python - Assignment 1\n",
    "\n",
    "Name:                  - Daniel Lenehan\n",
    "Student number:        - 15499152\n",
    "    \n",
    "Dataset link:          - https://data.cityofchicago.org/api/views/ijzp-q8t2/rows.csv?accessType=DOWNLOAD"
   ]
  },
  {
   "cell_type": "markdown",
   "metadata": {},
   "source": [
    "Adding in all the imports I'll need for cleaning and creating visualistaions."
   ]
  },
  {
   "cell_type": "code",
   "execution_count": 1,
   "metadata": {
    "collapsed": true
   },
   "outputs": [],
   "source": [
    "import os.path\n",
    "import pandas as pd\n",
    "import numpy as np\n",
    "import matplotlib.pyplot as plt\n",
    "import math\n",
    "%matplotlib inline"
   ]
  },
  {
   "cell_type": "markdown",
   "metadata": {},
   "source": [
    "Loading the a reading the data. To note this police records file has over 6.4 million files so some of the operations i preform\n",
    "on the dataset take quite a long time to process. So I might use only some of the data for the data visualisations after I have \n",
    "cleaned the dataset. "
   ]
  },
  {
   "cell_type": "code",
   "execution_count": 2,
   "metadata": {
    "collapsed": true
   },
   "outputs": [],
   "source": [
    "# Ensure the file exists\n",
    "if not os.path.exists( \"crimes_CH.csv\" ):\n",
    "    print(\"Missing dataset file\")"
   ]
  },
  {
   "cell_type": "code",
   "execution_count": 3,
   "metadata": {
    "collapsed": true
   },
   "outputs": [],
   "source": [
    "df_full = pd.read_csv( \"crimes_CH.csv\" )"
   ]
  },
  {
   "cell_type": "markdown",
   "metadata": {},
   "source": [
    "Getting an idea of what the dataset looks like. Looking espeically at the various fields. Do they have spaces between the field\n",
    "titles? What fields are likely to have null or invalid/ incorrect values? "
   ]
  },
  {
   "cell_type": "code",
   "execution_count": 4,
   "metadata": {
    "scrolled": true
   },
   "outputs": [
    {
     "data": {
      "text/html": [
       "<div>\n",
       "<style>\n",
       "    .dataframe thead tr:only-child th {\n",
       "        text-align: right;\n",
       "    }\n",
       "\n",
       "    .dataframe thead th {\n",
       "        text-align: left;\n",
       "    }\n",
       "\n",
       "    .dataframe tbody tr th {\n",
       "        vertical-align: top;\n",
       "    }\n",
       "</style>\n",
       "<table border=\"1\" class=\"dataframe\">\n",
       "  <thead>\n",
       "    <tr style=\"text-align: right;\">\n",
       "      <th></th>\n",
       "      <th>ID</th>\n",
       "      <th>Case Number</th>\n",
       "      <th>Date</th>\n",
       "      <th>Block</th>\n",
       "      <th>IUCR</th>\n",
       "      <th>Primary Type</th>\n",
       "      <th>Description</th>\n",
       "      <th>Location Description</th>\n",
       "      <th>Arrest</th>\n",
       "      <th>Domestic</th>\n",
       "      <th>...</th>\n",
       "      <th>Ward</th>\n",
       "      <th>Community Area</th>\n",
       "      <th>FBI Code</th>\n",
       "      <th>X Coordinate</th>\n",
       "      <th>Y Coordinate</th>\n",
       "      <th>Year</th>\n",
       "      <th>Updated On</th>\n",
       "      <th>Latitude</th>\n",
       "      <th>Longitude</th>\n",
       "      <th>Location</th>\n",
       "    </tr>\n",
       "  </thead>\n",
       "  <tbody>\n",
       "    <tr>\n",
       "      <th>0</th>\n",
       "      <td>10000092</td>\n",
       "      <td>HY189866</td>\n",
       "      <td>03/18/2015 07:44:00 PM</td>\n",
       "      <td>047XX W OHIO ST</td>\n",
       "      <td>041A</td>\n",
       "      <td>BATTERY</td>\n",
       "      <td>AGGRAVATED: HANDGUN</td>\n",
       "      <td>STREET</td>\n",
       "      <td>False</td>\n",
       "      <td>False</td>\n",
       "      <td>...</td>\n",
       "      <td>28.0</td>\n",
       "      <td>25.0</td>\n",
       "      <td>04B</td>\n",
       "      <td>1144606.0</td>\n",
       "      <td>1903566.0</td>\n",
       "      <td>2015</td>\n",
       "      <td>02/10/2018 03:50:01 PM</td>\n",
       "      <td>41.891399</td>\n",
       "      <td>-87.744385</td>\n",
       "      <td>(41.891398861, -87.744384567)</td>\n",
       "    </tr>\n",
       "    <tr>\n",
       "      <th>1</th>\n",
       "      <td>10000094</td>\n",
       "      <td>HY190059</td>\n",
       "      <td>03/18/2015 11:00:00 PM</td>\n",
       "      <td>066XX S MARSHFIELD AVE</td>\n",
       "      <td>4625</td>\n",
       "      <td>OTHER OFFENSE</td>\n",
       "      <td>PAROLE VIOLATION</td>\n",
       "      <td>STREET</td>\n",
       "      <td>True</td>\n",
       "      <td>False</td>\n",
       "      <td>...</td>\n",
       "      <td>15.0</td>\n",
       "      <td>67.0</td>\n",
       "      <td>26</td>\n",
       "      <td>1166468.0</td>\n",
       "      <td>1860715.0</td>\n",
       "      <td>2015</td>\n",
       "      <td>02/10/2018 03:50:01 PM</td>\n",
       "      <td>41.773372</td>\n",
       "      <td>-87.665319</td>\n",
       "      <td>(41.773371528, -87.665319468)</td>\n",
       "    </tr>\n",
       "    <tr>\n",
       "      <th>2</th>\n",
       "      <td>10000095</td>\n",
       "      <td>HY190052</td>\n",
       "      <td>03/18/2015 10:45:00 PM</td>\n",
       "      <td>044XX S LAKE PARK AVE</td>\n",
       "      <td>0486</td>\n",
       "      <td>BATTERY</td>\n",
       "      <td>DOMESTIC BATTERY SIMPLE</td>\n",
       "      <td>APARTMENT</td>\n",
       "      <td>False</td>\n",
       "      <td>True</td>\n",
       "      <td>...</td>\n",
       "      <td>4.0</td>\n",
       "      <td>39.0</td>\n",
       "      <td>08B</td>\n",
       "      <td>1185075.0</td>\n",
       "      <td>1875622.0</td>\n",
       "      <td>2015</td>\n",
       "      <td>02/10/2018 03:50:01 PM</td>\n",
       "      <td>41.813861</td>\n",
       "      <td>-87.596643</td>\n",
       "      <td>(41.81386068, -87.596642837)</td>\n",
       "    </tr>\n",
       "    <tr>\n",
       "      <th>3</th>\n",
       "      <td>10000096</td>\n",
       "      <td>HY190054</td>\n",
       "      <td>03/18/2015 10:30:00 PM</td>\n",
       "      <td>051XX S MICHIGAN AVE</td>\n",
       "      <td>0460</td>\n",
       "      <td>BATTERY</td>\n",
       "      <td>SIMPLE</td>\n",
       "      <td>APARTMENT</td>\n",
       "      <td>False</td>\n",
       "      <td>False</td>\n",
       "      <td>...</td>\n",
       "      <td>3.0</td>\n",
       "      <td>40.0</td>\n",
       "      <td>08B</td>\n",
       "      <td>1178033.0</td>\n",
       "      <td>1870804.0</td>\n",
       "      <td>2015</td>\n",
       "      <td>02/10/2018 03:50:01 PM</td>\n",
       "      <td>41.800802</td>\n",
       "      <td>-87.622619</td>\n",
       "      <td>(41.800802415, -87.622619343)</td>\n",
       "    </tr>\n",
       "    <tr>\n",
       "      <th>4</th>\n",
       "      <td>10000097</td>\n",
       "      <td>HY189976</td>\n",
       "      <td>03/18/2015 09:00:00 PM</td>\n",
       "      <td>047XX W ADAMS ST</td>\n",
       "      <td>031A</td>\n",
       "      <td>ROBBERY</td>\n",
       "      <td>ARMED: HANDGUN</td>\n",
       "      <td>SIDEWALK</td>\n",
       "      <td>False</td>\n",
       "      <td>False</td>\n",
       "      <td>...</td>\n",
       "      <td>28.0</td>\n",
       "      <td>25.0</td>\n",
       "      <td>03</td>\n",
       "      <td>1144920.0</td>\n",
       "      <td>1898709.0</td>\n",
       "      <td>2015</td>\n",
       "      <td>02/10/2018 03:50:01 PM</td>\n",
       "      <td>41.878065</td>\n",
       "      <td>-87.743354</td>\n",
       "      <td>(41.878064761, -87.743354013)</td>\n",
       "    </tr>\n",
       "  </tbody>\n",
       "</table>\n",
       "<p>5 rows × 22 columns</p>\n",
       "</div>"
      ],
      "text/plain": [
       "         ID Case Number                    Date                   Block  IUCR  \\\n",
       "0  10000092    HY189866  03/18/2015 07:44:00 PM         047XX W OHIO ST  041A   \n",
       "1  10000094    HY190059  03/18/2015 11:00:00 PM  066XX S MARSHFIELD AVE  4625   \n",
       "2  10000095    HY190052  03/18/2015 10:45:00 PM   044XX S LAKE PARK AVE  0486   \n",
       "3  10000096    HY190054  03/18/2015 10:30:00 PM    051XX S MICHIGAN AVE  0460   \n",
       "4  10000097    HY189976  03/18/2015 09:00:00 PM        047XX W ADAMS ST  031A   \n",
       "\n",
       "    Primary Type              Description Location Description  Arrest  \\\n",
       "0        BATTERY      AGGRAVATED: HANDGUN               STREET   False   \n",
       "1  OTHER OFFENSE         PAROLE VIOLATION               STREET    True   \n",
       "2        BATTERY  DOMESTIC BATTERY SIMPLE            APARTMENT   False   \n",
       "3        BATTERY                   SIMPLE            APARTMENT   False   \n",
       "4        ROBBERY           ARMED: HANDGUN             SIDEWALK   False   \n",
       "\n",
       "   Domestic              ...                Ward  Community Area  FBI Code  \\\n",
       "0     False              ...                28.0            25.0       04B   \n",
       "1     False              ...                15.0            67.0        26   \n",
       "2      True              ...                 4.0            39.0       08B   \n",
       "3     False              ...                 3.0            40.0       08B   \n",
       "4     False              ...                28.0            25.0        03   \n",
       "\n",
       "   X Coordinate Y Coordinate  Year              Updated On   Latitude  \\\n",
       "0     1144606.0    1903566.0  2015  02/10/2018 03:50:01 PM  41.891399   \n",
       "1     1166468.0    1860715.0  2015  02/10/2018 03:50:01 PM  41.773372   \n",
       "2     1185075.0    1875622.0  2015  02/10/2018 03:50:01 PM  41.813861   \n",
       "3     1178033.0    1870804.0  2015  02/10/2018 03:50:01 PM  41.800802   \n",
       "4     1144920.0    1898709.0  2015  02/10/2018 03:50:01 PM  41.878065   \n",
       "\n",
       "   Longitude                       Location  \n",
       "0 -87.744385  (41.891398861, -87.744384567)  \n",
       "1 -87.665319  (41.773371528, -87.665319468)  \n",
       "2 -87.596643   (41.81386068, -87.596642837)  \n",
       "3 -87.622619  (41.800802415, -87.622619343)  \n",
       "4 -87.743354  (41.878064761, -87.743354013)  \n",
       "\n",
       "[5 rows x 22 columns]"
      ]
     },
     "execution_count": 4,
     "metadata": {},
     "output_type": "execute_result"
    }
   ],
   "source": [
    "df_full.head(5)"
   ]
  },
  {
   "cell_type": "code",
   "execution_count": 5,
   "metadata": {},
   "outputs": [
    {
     "data": {
      "text/plain": [
       "ID                            0\n",
       "Case Number                   4\n",
       "Date                          0\n",
       "Block                         0\n",
       "IUCR                          0\n",
       "Primary Type                  0\n",
       "Description                   0\n",
       "Location Description       3204\n",
       "Arrest                        0\n",
       "Domestic                      0\n",
       "Beat                          0\n",
       "District                     51\n",
       "Ward                     614853\n",
       "Community Area           616029\n",
       "FBI Code                      0\n",
       "X Coordinate              56567\n",
       "Y Coordinate            2826419\n",
       "Year                          0\n",
       "Updated On                    0\n",
       "Latitude                2826419\n",
       "Longitude               2826419\n",
       "Location                2826419\n",
       "dtype: int64"
      ]
     },
     "execution_count": 5,
     "metadata": {},
     "output_type": "execute_result"
    }
   ],
   "source": [
    "df_full.isnull().sum()"
   ]
  },
  {
   "cell_type": "markdown",
   "metadata": {},
   "source": [
    "There are quite alot of null values in this data set. Most notably the location fields (location , longitude and latitude). I feel \n",
    "that these location feilds are very important so I'll have to figure out reasonable data to fill these null cases with."
   ]
  },
  {
   "cell_type": "markdown",
   "metadata": {},
   "source": [
    "The line below gets rid of all the spaces between field titles and replaces them \n",
    "with underscores. "
   ]
  },
  {
   "cell_type": "code",
   "execution_count": 6,
   "metadata": {
    "collapsed": true
   },
   "outputs": [],
   "source": [
    "df_full.columns = df_full.columns.str.replace('\\s+', '_')"
   ]
  },
  {
   "cell_type": "markdown",
   "metadata": {},
   "source": [
    "The line below changes the null values to \"Unknown\" for the Case_Number and Location_Description fields and\n",
    "changes the Ward, District and Community_Area fieds to 0 where null is found. \n",
    "There are null values for latitude, longtitude and location however they will be altered later as filling in a random value or just 0 i feel is'nt good enough. "
   ]
  },
  {
   "cell_type": "code",
   "execution_count": 7,
   "metadata": {
    "collapsed": true
   },
   "outputs": [],
   "source": [
    "new_df = df_full.fillna({\n",
    "    'Case_Number' : 'UNKNOWN',\n",
    "    'Location_Description' : 'UNKNOWN',\n",
    "    'District' : 0,\n",
    "    'Ward' : 0,\n",
    "    'Community_Area' : 0\n",
    "})\n",
    "        "
   ]
  },
  {
   "cell_type": "markdown",
   "metadata": {},
   "source": [
    "Checking all the types of the fields. Can some of them be changed? "
   ]
  },
  {
   "cell_type": "code",
   "execution_count": 8,
   "metadata": {},
   "outputs": [
    {
     "name": "stdout",
     "output_type": "stream",
     "text": [
      "<class 'pandas.core.frame.DataFrame'>\n",
      "RangeIndex: 6542968 entries, 0 to 6542967\n",
      "Data columns (total 22 columns):\n",
      "ID                      int64\n",
      "Case_Number             object\n",
      "Date                    object\n",
      "Block                   object\n",
      "IUCR                    object\n",
      "Primary_Type            object\n",
      "Description             object\n",
      "Location_Description    object\n",
      "Arrest                  bool\n",
      "Domestic                bool\n",
      "Beat                    int64\n",
      "District                float64\n",
      "Ward                    float64\n",
      "Community_Area          float64\n",
      "FBI_Code                object\n",
      "X_Coordinate            float64\n",
      "Y_Coordinate            float64\n",
      "Year                    int64\n",
      "Updated_On              object\n",
      "Latitude                float64\n",
      "Longitude               float64\n",
      "Location                object\n",
      "dtypes: bool(2), float64(7), int64(3), object(10)\n",
      "memory usage: 1010.9+ MB\n"
     ]
    }
   ],
   "source": [
    "df_full.info()"
   ]
  },
  {
   "cell_type": "markdown",
   "metadata": {},
   "source": [
    "Below I'm checking to see all the unique values for district and ward to see the number of each. "
   ]
  },
  {
   "cell_type": "code",
   "execution_count": 9,
   "metadata": {},
   "outputs": [
    {
     "data": {
      "text/plain": [
       "[0.0,\n",
       " 1.0,\n",
       " 2.0,\n",
       " 3.0,\n",
       " 4.0,\n",
       " 5.0,\n",
       " 6.0,\n",
       " 7.0,\n",
       " 8.0,\n",
       " 9.0,\n",
       " 10.0,\n",
       " 11.0,\n",
       " 12.0,\n",
       " 13.0,\n",
       " 14.0,\n",
       " 15.0,\n",
       " 16.0,\n",
       " 17.0,\n",
       " 18.0,\n",
       " 19.0,\n",
       " 20.0,\n",
       " 21.0,\n",
       " 22.0,\n",
       " 23.0,\n",
       " 24.0,\n",
       " 25.0,\n",
       " 26.0,\n",
       " 27.0,\n",
       " 28.0,\n",
       " 29.0,\n",
       " 30.0,\n",
       " 31.0,\n",
       " 32.0,\n",
       " 33.0,\n",
       " 34.0,\n",
       " 35.0,\n",
       " 36.0,\n",
       " 37.0,\n",
       " 38.0,\n",
       " 39.0,\n",
       " 40.0,\n",
       " 41.0,\n",
       " 42.0,\n",
       " 43.0,\n",
       " 44.0,\n",
       " 45.0,\n",
       " 46.0,\n",
       " 47.0,\n",
       " 48.0,\n",
       " 49.0,\n",
       " 50.0]"
      ]
     },
     "execution_count": 9,
     "metadata": {},
     "output_type": "execute_result"
    }
   ],
   "source": [
    "sorted(new_df['Ward'].unique())"
   ]
  },
  {
   "cell_type": "code",
   "execution_count": 10,
   "metadata": {},
   "outputs": [
    {
     "data": {
      "text/plain": [
       "[0.0,\n",
       " 1.0,\n",
       " 2.0,\n",
       " 3.0,\n",
       " 4.0,\n",
       " 5.0,\n",
       " 6.0,\n",
       " 7.0,\n",
       " 8.0,\n",
       " 9.0,\n",
       " 10.0,\n",
       " 11.0,\n",
       " 12.0,\n",
       " 14.0,\n",
       " 15.0,\n",
       " 16.0,\n",
       " 17.0,\n",
       " 18.0,\n",
       " 19.0,\n",
       " 20.0,\n",
       " 21.0,\n",
       " 22.0,\n",
       " 24.0,\n",
       " 25.0,\n",
       " 31.0]"
      ]
     },
     "execution_count": 10,
     "metadata": {},
     "output_type": "execute_result"
    }
   ],
   "source": [
    "sorted(new_df['District'].unique())"
   ]
  },
  {
   "cell_type": "markdown",
   "metadata": {},
   "source": [
    "Because there are no decimal point values in the Ward, District or Community_Area column there is no need for the type to be float so I decided to change the filed type to integer. "
   ]
  },
  {
   "cell_type": "code",
   "execution_count": 11,
   "metadata": {
    "collapsed": true
   },
   "outputs": [],
   "source": [
    "new_df['Ward']= new_df.Ward.astype(int)\n",
    "new_df['District']= new_df.District.astype(int)\n",
    "new_df['Community_Area']= new_df.Community_Area.astype(int)"
   ]
  },
  {
   "cell_type": "markdown",
   "metadata": {},
   "source": [
    "The block below shows that there are some duplicates in the case numbers. At \n",
    "first I thought that this could be multiple people arrested for the same crime resulting in the same case number \n",
    "under the record, however I could not prove this so in the foolowing lines I just removed these duplicates from the dataset. "
   ]
  },
  {
   "cell_type": "code",
   "execution_count": 12,
   "metadata": {},
   "outputs": [
    {
     "name": "stdout",
     "output_type": "stream",
     "text": [
      "There is 387 duplicate case numbers\n"
     ]
    }
   ],
   "source": [
    "if new_df.Case_Number.nunique() < len(new_df.index):\n",
    "    print(\"There is \" + str(len(new_df.index) - new_df.Case_Number.nunique()) + \" duplicate case numbers\", )"
   ]
  },
  {
   "cell_type": "code",
   "execution_count": 13,
   "metadata": {
    "collapsed": true
   },
   "outputs": [],
   "source": [
    "newest_df = new_df.drop_duplicates(subset='Case_Number', keep=\"last\")"
   ]
  },
  {
   "cell_type": "markdown",
   "metadata": {},
   "source": [
    "I dropped the rows with duplicates and then made sure the rows were deleted. "
   ]
  },
  {
   "cell_type": "code",
   "execution_count": 14,
   "metadata": {},
   "outputs": [
    {
     "data": {
      "text/html": [
       "<div>\n",
       "<style>\n",
       "    .dataframe thead tr:only-child th {\n",
       "        text-align: right;\n",
       "    }\n",
       "\n",
       "    .dataframe thead th {\n",
       "        text-align: left;\n",
       "    }\n",
       "\n",
       "    .dataframe tbody tr th {\n",
       "        vertical-align: top;\n",
       "    }\n",
       "</style>\n",
       "<table border=\"1\" class=\"dataframe\">\n",
       "  <thead>\n",
       "    <tr style=\"text-align: right;\">\n",
       "      <th></th>\n",
       "      <th>ID</th>\n",
       "      <th>Case_Number</th>\n",
       "      <th>Date</th>\n",
       "      <th>Block</th>\n",
       "      <th>IUCR</th>\n",
       "      <th>Primary_Type</th>\n",
       "      <th>Description</th>\n",
       "      <th>Location_Description</th>\n",
       "      <th>Arrest</th>\n",
       "      <th>Domestic</th>\n",
       "      <th>...</th>\n",
       "      <th>Ward</th>\n",
       "      <th>Community_Area</th>\n",
       "      <th>FBI_Code</th>\n",
       "      <th>X_Coordinate</th>\n",
       "      <th>Y_Coordinate</th>\n",
       "      <th>Year</th>\n",
       "      <th>Updated_On</th>\n",
       "      <th>Latitude</th>\n",
       "      <th>Longitude</th>\n",
       "      <th>Location</th>\n",
       "    </tr>\n",
       "  </thead>\n",
       "  <tbody>\n",
       "  </tbody>\n",
       "</table>\n",
       "<p>0 rows × 22 columns</p>\n",
       "</div>"
      ],
      "text/plain": [
       "Empty DataFrame\n",
       "Columns: [ID, Case_Number, Date, Block, IUCR, Primary_Type, Description, Location_Description, Arrest, Domestic, Beat, District, Ward, Community_Area, FBI_Code, X_Coordinate, Y_Coordinate, Year, Updated_On, Latitude, Longitude, Location]\n",
       "Index: []\n",
       "\n",
       "[0 rows x 22 columns]"
      ]
     },
     "execution_count": 14,
     "metadata": {},
     "output_type": "execute_result"
    }
   ],
   "source": [
    "newest_df[newest_df.duplicated(['Case_Number'],keep=False)]"
   ]
  },
  {
   "cell_type": "code",
   "execution_count": 15,
   "metadata": {},
   "outputs": [
    {
     "data": {
      "text/plain": [
       "[0,\n",
       " 1,\n",
       " 2,\n",
       " 3,\n",
       " 4,\n",
       " 5,\n",
       " 6,\n",
       " 7,\n",
       " 8,\n",
       " 9,\n",
       " 10,\n",
       " 11,\n",
       " 12,\n",
       " 14,\n",
       " 15,\n",
       " 16,\n",
       " 17,\n",
       " 18,\n",
       " 19,\n",
       " 20,\n",
       " 21,\n",
       " 22,\n",
       " 24,\n",
       " 25,\n",
       " 31]"
      ]
     },
     "execution_count": 15,
     "metadata": {},
     "output_type": "execute_result"
    }
   ],
   "source": [
    "sorted(newest_df['District'].unique())"
   ]
  },
  {
   "cell_type": "markdown",
   "metadata": {},
   "source": [
    "Previously I had changed any district with a null value to 0 so that all the rows/ cases with no district would be grouped into\n",
    "the 0 district category which will just represent 'other'.\n",
    "District 31 is not a valid District so I wiil change all of the rows with district 31 to 0 so all of these rows/ cases will just\n",
    "have this 0 district value. It is important that every case has a district for later on in the visualisation part of the assingment. Also district 21 was included in the dataset however it is not a real district in chicago and is therefore invalid. \n",
    "So like district 31 we cannot tell what district this was meant to be so we add it to the 0 or 'other' district we created.  "
   ]
  },
  {
   "cell_type": "code",
   "execution_count": 16,
   "metadata": {},
   "outputs": [
    {
     "name": "stderr",
     "output_type": "stream",
     "text": [
      "C:\\Users\\Daniel\\Anaconda3\\lib\\site-packages\\ipykernel_launcher.py:1: DeprecationWarning: \n",
      ".ix is deprecated. Please use\n",
      ".loc for label based indexing or\n",
      ".iloc for positional indexing\n",
      "\n",
      "See the documentation here:\n",
      "http://pandas.pydata.org/pandas-docs/stable/indexing.html#ix-indexer-is-deprecated\n",
      "  \"\"\"Entry point for launching an IPython kernel.\n",
      "C:\\Users\\Daniel\\Anaconda3\\lib\\site-packages\\pandas\\core\\indexing.py:517: SettingWithCopyWarning: \n",
      "A value is trying to be set on a copy of a slice from a DataFrame.\n",
      "Try using .loc[row_indexer,col_indexer] = value instead\n",
      "\n",
      "See the caveats in the documentation: http://pandas.pydata.org/pandas-docs/stable/indexing.html#indexing-view-versus-copy\n",
      "  self.obj[item] = s\n"
     ]
    }
   ],
   "source": [
    "newest_df.ix[newest_df.District == 31, 'District'] = 0\n",
    "newest_df.ix[newest_df.District == 21, 'District'] = 0"
   ]
  },
  {
   "cell_type": "code",
   "execution_count": 17,
   "metadata": {},
   "outputs": [
    {
     "data": {
      "text/plain": [
       "[0,\n",
       " 1,\n",
       " 2,\n",
       " 3,\n",
       " 4,\n",
       " 5,\n",
       " 6,\n",
       " 7,\n",
       " 8,\n",
       " 9,\n",
       " 10,\n",
       " 11,\n",
       " 12,\n",
       " 14,\n",
       " 15,\n",
       " 16,\n",
       " 17,\n",
       " 18,\n",
       " 19,\n",
       " 20,\n",
       " 22,\n",
       " 24,\n",
       " 25]"
      ]
     },
     "execution_count": 17,
     "metadata": {},
     "output_type": "execute_result"
    }
   ],
   "source": [
    "sorted(newest_df['District'].unique())"
   ]
  },
  {
   "cell_type": "markdown",
   "metadata": {},
   "source": [
    "This next piece of code is the most drastic clean I will preform on this dataset. For any rows/ cases will null values for the \n",
    "longitude, latitude or location field will have those three fields filled with the average longitude, latitude and location \n",
    "of that specific district that row belongs to. "
   ]
  },
  {
   "cell_type": "markdown",
   "metadata": {},
   "source": [
    "First I calcualte the mean or average of all longtitudes and latitudes of all the cases in each district. "
   ]
  },
  {
   "cell_type": "code",
   "execution_count": 18,
   "metadata": {
    "collapsed": true
   },
   "outputs": [],
   "source": [
    "lat_df = newest_df.groupby('District', as_index=False)['Latitude'].mean()\n",
    "long_df = newest_df.groupby('District', as_index=False)['Longitude'].mean()"
   ]
  },
  {
   "cell_type": "code",
   "execution_count": 19,
   "metadata": {},
   "outputs": [
    {
     "name": "stdout",
     "output_type": "stream",
     "text": [
      "    District   Latitude\n",
      "0          0  41.928052\n",
      "1          1  41.873494\n",
      "2          2  41.811144\n",
      "3          3  41.771251\n",
      "4          4  41.733935\n",
      "5          5  41.687407\n",
      "6          6  41.745410\n",
      "7          7  41.775717\n",
      "8          8  41.777851\n",
      "9          9  41.815164\n",
      "10        10  41.853595\n",
      "11        11  41.882342\n",
      "12        12  41.880361\n",
      "13        14  41.916070\n",
      "14        15  41.886183\n",
      "15        16  41.964777\n",
      "16        17  41.960057\n",
      "17        18  41.902362\n",
      "18        19  41.947658\n",
      "19        20  41.978465\n",
      "20        22  41.708725\n",
      "21        24  42.005816\n",
      "22        25  41.918912\n"
     ]
    }
   ],
   "source": [
    "print(lat_df)"
   ]
  },
  {
   "cell_type": "markdown",
   "metadata": {},
   "source": [
    "Then I add these values for the longitude and latitude columns of these datasets to lists. "
   ]
  },
  {
   "cell_type": "code",
   "execution_count": 20,
   "metadata": {
    "collapsed": true
   },
   "outputs": [],
   "source": [
    "latList = lat_df['Latitude'].tolist()\n",
    "longList = long_df['Longitude'].tolist()"
   ]
  },
  {
   "cell_type": "code",
   "execution_count": 21,
   "metadata": {},
   "outputs": [
    {
     "name": "stdout",
     "output_type": "stream",
     "text": [
      "23 23\n"
     ]
    }
   ],
   "source": [
    "print(len(latList), len(longList))"
   ]
  },
  {
   "cell_type": "markdown",
   "metadata": {},
   "source": [
    "As you can see above each list has a length of 25. The police districts are numbered from 1 - 25. As I said before 0 will  represent all the cases that were not given a district or given an invalid district so the mean for this group will be less accurate however it is the \n",
    "best we can do with the information given. \n",
    "As you will also notice above there is no district 13, 21 or 23 as these numbers are not districts in chicago. "
   ]
  },
  {
   "cell_type": "code",
   "execution_count": 22,
   "metadata": {},
   "outputs": [
    {
     "name": "stdout",
     "output_type": "stream",
     "text": [
      "[41.92805215416104, 41.873494118166356, 41.811144111901946, 41.771251445643415, 41.733934685509126, 41.687407192626935, 41.745410088985246, 41.775717198620725, 41.77785060251526, 41.81516375948714, 41.85359500004515, 41.882342311245615, 41.880360585457595, 41.91607029296745, 41.88618256506988, 41.9647765795528, 41.96005686971069, 41.902362394159304, 41.94765782637979, 41.9784651644649, 41.70872532504954, 42.00581596360219, 41.91891151467083]\n"
     ]
    }
   ],
   "source": [
    "print(latList)"
   ]
  },
  {
   "cell_type": "markdown",
   "metadata": {},
   "source": [
    "Now in the next code I create a list which contains the avergae locations for each district. A location being a longitude\n",
    "and latitude number"
   ]
  },
  {
   "cell_type": "code",
   "execution_count": 23,
   "metadata": {
    "collapsed": true
   },
   "outputs": [],
   "source": [
    "locArray = []\n",
    "for x in range(len(latList)):\n",
    "        locArray.append(\"(\" + str(latList[x]) + \", \" + str(longList[x]) + \")\"  )"
   ]
  },
  {
   "cell_type": "code",
   "execution_count": 24,
   "metadata": {},
   "outputs": [
    {
     "name": "stdout",
     "output_type": "stream",
     "text": [
      "['(41.92805215416104, -87.79489922154237)', '(41.873494118166356, -87.62906397107707)', '(41.811144111901946, -87.61315520369297)', '(41.771251445643415, -87.59662968977142)', '(41.733934685509126, -87.56367942829313)', '(41.687407192626935, -87.62269980634503)', '(41.745410088985246, -87.63262095949733)', '(41.775717198620725, -87.65378631124018)', '(41.77785060251526, -87.7154483608114)', '(41.81516375948714, -87.66518984099851)', '(41.85359500004515, -87.71271974568471)', '(41.882342311245615, -87.71927809139882)', '(41.880360585457595, -87.67193673103894)', '(41.91607029296745, -87.69332301320354)', '(41.88618256506988, -87.75814172506271)', '(41.9647765795528, -87.79800412980333)', '(41.96005686971069, -87.72079468158529)', '(41.902362394159304, -87.63530007245573)', '(41.94765782637979, -87.66004534223359)', '(41.9784651644649, -87.67195431385761)', '(41.70872532504954, -87.65862840848807)', '(42.00581596360219, -87.67766855467765)', '(41.91891151467083, -87.7524105932246)']\n"
     ]
    }
   ],
   "source": [
    "print(locArray)"
   ]
  },
  {
   "cell_type": "code",
   "execution_count": 25,
   "metadata": {},
   "outputs": [
    {
     "name": "stdout",
     "output_type": "stream",
     "text": [
      "[41.92805215416104, 41.873494118166356, 41.811144111901946, 41.771251445643415, 41.733934685509126, 41.687407192626935, 41.745410088985246, 41.775717198620725, 41.77785060251526, 41.81516375948714, 41.85359500004515, 41.882342311245615, 41.880360585457595, 41.91607029296745, 41.88618256506988, 41.9647765795528, 41.96005686971069, 41.902362394159304, 41.94765782637979, 41.9784651644649, 41.70872532504954, 42.00581596360219, 41.91891151467083]\n"
     ]
    }
   ],
   "source": [
    "print(latList)        "
   ]
  },
  {
   "cell_type": "markdown",
   "metadata": {},
   "source": [
    "Here I am checking again the number of null values across the fields. This will change soon for the location, longitude and \n",
    "laititude fields. The goal of having locations or at least rough locations for all cases. "
   ]
  },
  {
   "cell_type": "code",
   "execution_count": 26,
   "metadata": {},
   "outputs": [
    {
     "data": {
      "text/plain": [
       "ID                            0\n",
       "Case_Number                   0\n",
       "Date                          0\n",
       "Block                         0\n",
       "IUCR                          0\n",
       "Primary_Type                  0\n",
       "Description                   0\n",
       "Location_Description          0\n",
       "Arrest                        0\n",
       "Domestic                      0\n",
       "Beat                          0\n",
       "District                      0\n",
       "Ward                          0\n",
       "Community_Area                0\n",
       "FBI_Code                      0\n",
       "X_Coordinate              56560\n",
       "Y_Coordinate            2826410\n",
       "Year                          0\n",
       "Updated_On                    0\n",
       "Latitude                2826410\n",
       "Longitude               2826410\n",
       "Location                2826410\n",
       "dtype: int64"
      ]
     },
     "execution_count": 26,
     "metadata": {},
     "output_type": "execute_result"
    }
   ],
   "source": [
    "newest_df.isnull().sum()"
   ]
  },
  {
   "cell_type": "markdown",
   "metadata": {},
   "source": [
    "This is the code that fills in all the empty/ null values for the threelocation fields. There are districts numbered 1 -25 in Chicago. \n",
    "They are broken up into districts because there is a head police station in each of these districts. \n",
    "However there is no district 13, 23 or 21 so I have to take this into account in my fiiling of the fields below. \n",
    "To note: This block takes ver 20 minutes to run. "
   ]
  },
  {
   "cell_type": "code",
   "execution_count": 27,
   "metadata": {
    "collapsed": true
   },
   "outputs": [],
   "source": [
    "for x in range(len(newest_df)):\n",
    "    index = newest_df.iloc[x].name \n",
    "    #Here i create a varaible for the index and all of the location fields i'll need \n",
    "    district = newest_df['District'].iloc[x]\n",
    "    location = newest_df['Location'].iloc[x]\n",
    "    longitude = newest_df['Longitude'].iloc[x]\n",
    "    latitude = newest_df['Latitude'].iloc[x]\n",
    "\n",
    "    # there are the conditions I have in order to fill these location fields\n",
    "    \n",
    "    if(pd.isnull(location) or pd.isnull(latitude) or pd.isnull(longitude) and district != 21):\n",
    "        # from district 0 -> 12 the index of each list will match up with the district number \n",
    "        if(district >= 0 and district <= 12):\n",
    "            newest_df.set_value(index, 'Location', locArray[district])\n",
    "            newest_df.set_value(index, 'Longitude', longList[district])\n",
    "            newest_df.set_value(index, 'Latitude', latList[district])\n",
    "        \n",
    "        # from district 14 -> 20 the districts location varaibles will be in the index value 1 less than the district number\n",
    "        # this as I said above is because disrict 13 does not exist in chicago so all the districts are moved up 1 index\n",
    "        if(district >= 14 and district <= 20):\n",
    "            newest_df.set_value(index, 'Location', locArray[district - 1])\n",
    "            newest_df.set_value(index, 'Longitude', longList[district - 1])\n",
    "            newest_df.set_value(index, 'Latitude', latList[district - 1])\n",
    "        \n",
    "        # the fact that disrict 21 does also not exist means the index value will be 2 less than district number 22\n",
    "        if(district == 22):\n",
    "            newest_df.set_value(index, 'Location', locArray[district - 2])\n",
    "            newest_df.set_value(index, 'Longitude', longList[district - 2])\n",
    "            newest_df.set_value(index, 'Latitude', latList[district - 2])            \n",
    "        \n",
    "        # as prevoiusly stated district 21 and 23 does not exist so the index will now be 3 behind the actual district number\n",
    "        if(district == 24 or district == 25):\n",
    "            newest_df.set_value(index, 'Location', locArray[district - 3])\n",
    "            newest_df.set_value(index, 'Longitude', longList[district - 3])\n",
    "            newest_df.set_value(index, 'Latitude', latList[district - 3])"
   ]
  },
  {
   "cell_type": "markdown",
   "metadata": {},
   "source": [
    "Here I check just to see that the null values have been removed for the location fields (location, longitude, latitude)"
   ]
  },
  {
   "cell_type": "code",
   "execution_count": 28,
   "metadata": {},
   "outputs": [
    {
     "data": {
      "text/plain": [
       "ID                            0\n",
       "Case_Number                   0\n",
       "Date                          0\n",
       "Block                         0\n",
       "IUCR                          0\n",
       "Primary_Type                  0\n",
       "Description                   0\n",
       "Location_Description          0\n",
       "Arrest                        0\n",
       "Domestic                      0\n",
       "Beat                          0\n",
       "District                      0\n",
       "Ward                          0\n",
       "Community_Area                0\n",
       "FBI_Code                      0\n",
       "X_Coordinate              56560\n",
       "Y_Coordinate            2826410\n",
       "Year                          0\n",
       "Updated_On                    0\n",
       "Latitude                      0\n",
       "Longitude                     0\n",
       "Location                      0\n",
       "dtype: int64"
      ]
     },
     "execution_count": 28,
     "metadata": {},
     "output_type": "execute_result"
    }
   ],
   "source": [
    "newest_df.isnull().sum()"
   ]
  },
  {
   "cell_type": "markdown",
   "metadata": {},
   "source": [
    "Now all the fields have values clean values that I'm happy with apart for the x and y coord fields. I will removed them because \n",
    "I don't deem them to be relevant due to the fact we already have three fields for location with no null values. "
   ]
  },
  {
   "cell_type": "code",
   "execution_count": 29,
   "metadata": {},
   "outputs": [
    {
     "name": "stderr",
     "output_type": "stream",
     "text": [
      "C:\\Users\\Daniel\\Anaconda3\\lib\\site-packages\\ipykernel_launcher.py:1: SettingWithCopyWarning: \n",
      "A value is trying to be set on a copy of a slice from a DataFrame\n",
      "\n",
      "See the caveats in the documentation: http://pandas.pydata.org/pandas-docs/stable/indexing.html#indexing-view-versus-copy\n",
      "  \"\"\"Entry point for launching an IPython kernel.\n",
      "C:\\Users\\Daniel\\Anaconda3\\lib\\site-packages\\ipykernel_launcher.py:2: SettingWithCopyWarning: \n",
      "A value is trying to be set on a copy of a slice from a DataFrame\n",
      "\n",
      "See the caveats in the documentation: http://pandas.pydata.org/pandas-docs/stable/indexing.html#indexing-view-versus-copy\n",
      "  \n"
     ]
    }
   ],
   "source": [
    "newest_df.drop('X_Coordinate', axis=1, inplace=True)\n",
    "newest_df.drop('Y_Coordinate', axis=1, inplace=True)"
   ]
  },
  {
   "cell_type": "markdown",
   "metadata": {},
   "source": [
    "The new table without the x and y coordinate fields."
   ]
  },
  {
   "cell_type": "code",
   "execution_count": 30,
   "metadata": {},
   "outputs": [
    {
     "data": {
      "text/html": [
       "<div>\n",
       "<style>\n",
       "    .dataframe thead tr:only-child th {\n",
       "        text-align: right;\n",
       "    }\n",
       "\n",
       "    .dataframe thead th {\n",
       "        text-align: left;\n",
       "    }\n",
       "\n",
       "    .dataframe tbody tr th {\n",
       "        vertical-align: top;\n",
       "    }\n",
       "</style>\n",
       "<table border=\"1\" class=\"dataframe\">\n",
       "  <thead>\n",
       "    <tr style=\"text-align: right;\">\n",
       "      <th></th>\n",
       "      <th>ID</th>\n",
       "      <th>Case_Number</th>\n",
       "      <th>Date</th>\n",
       "      <th>Block</th>\n",
       "      <th>IUCR</th>\n",
       "      <th>Primary_Type</th>\n",
       "      <th>Description</th>\n",
       "      <th>Location_Description</th>\n",
       "      <th>Arrest</th>\n",
       "      <th>Domestic</th>\n",
       "      <th>Beat</th>\n",
       "      <th>District</th>\n",
       "      <th>Ward</th>\n",
       "      <th>Community_Area</th>\n",
       "      <th>FBI_Code</th>\n",
       "      <th>Year</th>\n",
       "      <th>Updated_On</th>\n",
       "      <th>Latitude</th>\n",
       "      <th>Longitude</th>\n",
       "      <th>Location</th>\n",
       "    </tr>\n",
       "  </thead>\n",
       "  <tbody>\n",
       "    <tr>\n",
       "      <th>0</th>\n",
       "      <td>10000092</td>\n",
       "      <td>HY189866</td>\n",
       "      <td>03/18/2015 07:44:00 PM</td>\n",
       "      <td>047XX W OHIO ST</td>\n",
       "      <td>041A</td>\n",
       "      <td>BATTERY</td>\n",
       "      <td>AGGRAVATED: HANDGUN</td>\n",
       "      <td>STREET</td>\n",
       "      <td>False</td>\n",
       "      <td>False</td>\n",
       "      <td>1111</td>\n",
       "      <td>11</td>\n",
       "      <td>28</td>\n",
       "      <td>25</td>\n",
       "      <td>04B</td>\n",
       "      <td>2015</td>\n",
       "      <td>02/10/2018 03:50:01 PM</td>\n",
       "      <td>41.891399</td>\n",
       "      <td>-87.744385</td>\n",
       "      <td>(41.891398861, -87.744384567)</td>\n",
       "    </tr>\n",
       "    <tr>\n",
       "      <th>1</th>\n",
       "      <td>10000094</td>\n",
       "      <td>HY190059</td>\n",
       "      <td>03/18/2015 11:00:00 PM</td>\n",
       "      <td>066XX S MARSHFIELD AVE</td>\n",
       "      <td>4625</td>\n",
       "      <td>OTHER OFFENSE</td>\n",
       "      <td>PAROLE VIOLATION</td>\n",
       "      <td>STREET</td>\n",
       "      <td>True</td>\n",
       "      <td>False</td>\n",
       "      <td>725</td>\n",
       "      <td>7</td>\n",
       "      <td>15</td>\n",
       "      <td>67</td>\n",
       "      <td>26</td>\n",
       "      <td>2015</td>\n",
       "      <td>02/10/2018 03:50:01 PM</td>\n",
       "      <td>41.773372</td>\n",
       "      <td>-87.665319</td>\n",
       "      <td>(41.773371528, -87.665319468)</td>\n",
       "    </tr>\n",
       "    <tr>\n",
       "      <th>2</th>\n",
       "      <td>10000095</td>\n",
       "      <td>HY190052</td>\n",
       "      <td>03/18/2015 10:45:00 PM</td>\n",
       "      <td>044XX S LAKE PARK AVE</td>\n",
       "      <td>0486</td>\n",
       "      <td>BATTERY</td>\n",
       "      <td>DOMESTIC BATTERY SIMPLE</td>\n",
       "      <td>APARTMENT</td>\n",
       "      <td>False</td>\n",
       "      <td>True</td>\n",
       "      <td>222</td>\n",
       "      <td>2</td>\n",
       "      <td>4</td>\n",
       "      <td>39</td>\n",
       "      <td>08B</td>\n",
       "      <td>2015</td>\n",
       "      <td>02/10/2018 03:50:01 PM</td>\n",
       "      <td>41.813861</td>\n",
       "      <td>-87.596643</td>\n",
       "      <td>(41.81386068, -87.596642837)</td>\n",
       "    </tr>\n",
       "    <tr>\n",
       "      <th>3</th>\n",
       "      <td>10000096</td>\n",
       "      <td>HY190054</td>\n",
       "      <td>03/18/2015 10:30:00 PM</td>\n",
       "      <td>051XX S MICHIGAN AVE</td>\n",
       "      <td>0460</td>\n",
       "      <td>BATTERY</td>\n",
       "      <td>SIMPLE</td>\n",
       "      <td>APARTMENT</td>\n",
       "      <td>False</td>\n",
       "      <td>False</td>\n",
       "      <td>225</td>\n",
       "      <td>2</td>\n",
       "      <td>3</td>\n",
       "      <td>40</td>\n",
       "      <td>08B</td>\n",
       "      <td>2015</td>\n",
       "      <td>02/10/2018 03:50:01 PM</td>\n",
       "      <td>41.800802</td>\n",
       "      <td>-87.622619</td>\n",
       "      <td>(41.800802415, -87.622619343)</td>\n",
       "    </tr>\n",
       "    <tr>\n",
       "      <th>4</th>\n",
       "      <td>10000097</td>\n",
       "      <td>HY189976</td>\n",
       "      <td>03/18/2015 09:00:00 PM</td>\n",
       "      <td>047XX W ADAMS ST</td>\n",
       "      <td>031A</td>\n",
       "      <td>ROBBERY</td>\n",
       "      <td>ARMED: HANDGUN</td>\n",
       "      <td>SIDEWALK</td>\n",
       "      <td>False</td>\n",
       "      <td>False</td>\n",
       "      <td>1113</td>\n",
       "      <td>11</td>\n",
       "      <td>28</td>\n",
       "      <td>25</td>\n",
       "      <td>03</td>\n",
       "      <td>2015</td>\n",
       "      <td>02/10/2018 03:50:01 PM</td>\n",
       "      <td>41.878065</td>\n",
       "      <td>-87.743354</td>\n",
       "      <td>(41.878064761, -87.743354013)</td>\n",
       "    </tr>\n",
       "  </tbody>\n",
       "</table>\n",
       "</div>"
      ],
      "text/plain": [
       "         ID Case_Number                    Date                   Block  IUCR  \\\n",
       "0  10000092    HY189866  03/18/2015 07:44:00 PM         047XX W OHIO ST  041A   \n",
       "1  10000094    HY190059  03/18/2015 11:00:00 PM  066XX S MARSHFIELD AVE  4625   \n",
       "2  10000095    HY190052  03/18/2015 10:45:00 PM   044XX S LAKE PARK AVE  0486   \n",
       "3  10000096    HY190054  03/18/2015 10:30:00 PM    051XX S MICHIGAN AVE  0460   \n",
       "4  10000097    HY189976  03/18/2015 09:00:00 PM        047XX W ADAMS ST  031A   \n",
       "\n",
       "    Primary_Type              Description Location_Description  Arrest  \\\n",
       "0        BATTERY      AGGRAVATED: HANDGUN               STREET   False   \n",
       "1  OTHER OFFENSE         PAROLE VIOLATION               STREET    True   \n",
       "2        BATTERY  DOMESTIC BATTERY SIMPLE            APARTMENT   False   \n",
       "3        BATTERY                   SIMPLE            APARTMENT   False   \n",
       "4        ROBBERY           ARMED: HANDGUN             SIDEWALK   False   \n",
       "\n",
       "   Domestic  Beat  District  Ward  Community_Area FBI_Code  Year  \\\n",
       "0     False  1111        11    28              25      04B  2015   \n",
       "1     False   725         7    15              67       26  2015   \n",
       "2      True   222         2     4              39      08B  2015   \n",
       "3     False   225         2     3              40      08B  2015   \n",
       "4     False  1113        11    28              25       03  2015   \n",
       "\n",
       "               Updated_On   Latitude  Longitude                       Location  \n",
       "0  02/10/2018 03:50:01 PM  41.891399 -87.744385  (41.891398861, -87.744384567)  \n",
       "1  02/10/2018 03:50:01 PM  41.773372 -87.665319  (41.773371528, -87.665319468)  \n",
       "2  02/10/2018 03:50:01 PM  41.813861 -87.596643   (41.81386068, -87.596642837)  \n",
       "3  02/10/2018 03:50:01 PM  41.800802 -87.622619  (41.800802415, -87.622619343)  \n",
       "4  02/10/2018 03:50:01 PM  41.878065 -87.743354  (41.878064761, -87.743354013)  "
      ]
     },
     "execution_count": 30,
     "metadata": {},
     "output_type": "execute_result"
    }
   ],
   "source": [
    "newest_df.head(5)"
   ]
  },
  {
   "cell_type": "markdown",
   "metadata": {},
   "source": [
    "Checking that there are no more null values in the dataset. "
   ]
  },
  {
   "cell_type": "code",
   "execution_count": 32,
   "metadata": {},
   "outputs": [
    {
     "data": {
      "text/plain": [
       "ID                      0\n",
       "Case_Number             0\n",
       "Date                    0\n",
       "Block                   0\n",
       "IUCR                    0\n",
       "Primary_Type            0\n",
       "Description             0\n",
       "Location_Description    0\n",
       "Arrest                  0\n",
       "Domestic                0\n",
       "Beat                    0\n",
       "District                0\n",
       "Ward                    0\n",
       "Community_Area          0\n",
       "FBI_Code                0\n",
       "Year                    0\n",
       "Updated_On              0\n",
       "Latitude                0\n",
       "Longitude               0\n",
       "Location                0\n",
       "dtype: int64"
      ]
     },
     "execution_count": 32,
     "metadata": {},
     "output_type": "execute_result"
    }
   ],
   "source": [
    "newest_df.isnull().sum()"
   ]
  },
  {
   "cell_type": "code",
   "execution_count": 34,
   "metadata": {
    "collapsed": true
   },
   "outputs": [],
   "source": [
    "newest_df.to_csv('cleanedCrimeFile.csv')"
   ]
  }
 ],
 "metadata": {
  "kernelspec": {
   "display_name": "Python 3",
   "language": "python",
   "name": "python3"
  },
  "language_info": {
   "codemirror_mode": {
    "name": "ipython",
    "version": 3
   },
   "file_extension": ".py",
   "mimetype": "text/x-python",
   "name": "python",
   "nbconvert_exporter": "python",
   "pygments_lexer": "ipython3",
   "version": "3.6.3"
  }
 },
 "nbformat": 4,
 "nbformat_minor": 2
}
